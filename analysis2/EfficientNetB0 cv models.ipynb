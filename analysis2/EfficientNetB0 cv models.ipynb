{
 "cells": [
  {
   "cell_type": "code",
   "execution_count": 1,
   "metadata": {},
   "outputs": [
    {
     "name": "stdout",
     "output_type": "stream",
     "text": [
      "Train TFRecord Files: 12\n",
      "Validation TFRecord Files: 4\n",
      "Test TFRecord Files: 0\n",
      "Dataset: 16045 training images, 5352 validation images, 0.0 (unlabeled) test images\n"
     ]
    }
   ],
   "source": [
    "import keras\n",
    "# import tensorflow as tf\n",
    "from tensorflow import keras\n",
    "import re\n",
    "import numpy as np\n",
    "import pandas as pd\n",
    "\n",
    "from functools import partial\n",
    "import matplotlib.pyplot as plt\n",
    "\n",
    "from readTFRecords import *\n",
    "\n",
    "# import tensorflow_hub as hub\n",
    "# from tensorflow.keras.applications import MobileNet\n",
    "from tensorflow.keras.applications import EfficientNetB0\n",
    "\n",
    "\n",
    "from sklearn.model_selection import train_test_split\n",
    "\n",
    "# AUTOTUNE = tf.data.experimental.AUTOTUNE\n",
    "GCS_PATH = \"../input/train_tfrecords\"\n",
    "# BATCH_SIZE = 16\n",
    "IMAGE_SIZE = (512, 512)\n",
    "CLASSES = ['0', '1', '2', '3', '4']\n",
    "EPOCHS = 12\n",
    "\n",
    "FILENAMES = tf.io.gfile.glob(GCS_PATH + \"/*tfrec\")\n",
    "split_ind = int(0.9 * len(FILENAMES))\n",
    "# TRAINING_FILENAMES, VALID_FILENAMES = FILENAMES[:split_ind], FILENAMES[split_ind:]\n",
    "\n",
    "TRAINING_FILENAMES, VALID_FILENAMES = train_test_split(FILENAMES, test_size=0.2, random_state=420)\n",
    "\n",
    "TEST_FILENAMES = tf.io.gfile.glob(GCS_PATH + \"../input/test_tfrecords/*tfrec\")\n",
    "print(\"Train TFRecord Files:\", len(TRAINING_FILENAMES))\n",
    "print(\"Validation TFRecord Files:\", len(VALID_FILENAMES))\n",
    "print(\"Test TFRecord Files:\", len(TEST_FILENAMES))\n",
    "\n",
    "def count_data_items(filenames):\n",
    "    n = [int(re.compile(r\"-([0-9]*)\\.\").search(filename).group(1)) for filename in filenames]\n",
    "    return np.sum(n)\n",
    "\n",
    "NUM_TRAINING_IMAGES = count_data_items(TRAINING_FILENAMES)\n",
    "NUM_VALIDATION_IMAGES = count_data_items(VALID_FILENAMES)\n",
    "NUM_TEST_IMAGES = count_data_items(TEST_FILENAMES)\n",
    "\n",
    "print('Dataset: {} training images, {} validation images, {} (unlabeled) test images'.format(\n",
    "    NUM_TRAINING_IMAGES, NUM_VALIDATION_IMAGES, NUM_TEST_IMAGES))"
   ]
  },
  {
   "cell_type": "code",
   "execution_count": 2,
   "metadata": {},
   "outputs": [],
   "source": [
    "import efficientnet.keras as eff\n",
    "from tensorflow.keras.experimental import CosineDecay"
   ]
  },
  {
   "cell_type": "code",
   "execution_count": 3,
   "metadata": {},
   "outputs": [],
   "source": [
    "BATCH_SIZE = 12\n",
    "epochs = 12\n",
    "\n",
    "decay_steps = int(round(NUM_TRAINING_IMAGES/BATCH_SIZE))*epochs\n",
    "cosine_decay = CosineDecay(initial_learning_rate=1e-4, decay_steps=decay_steps, alpha=0.3)\n",
    "\n",
    "from keras.backend import sigmoid\n",
    "\n",
    "class SwishActivation(tf.keras.layers.Activation):\n",
    "    \n",
    "    def __init__(self, activation, **kwargs):\n",
    "        super(SwishActivation, self).__init__(activation, **kwargs)\n",
    "        self.__name__ = 'swish_act'\n",
    "\n",
    "def swish_act(x, beta = 1):\n",
    "    return (x * sigmoid(beta * x))\n",
    "\n",
    "from keras.utils.generic_utils import get_custom_objects\n",
    "# from tf.keras.layers import Activation\n",
    "get_custom_objects().update({'swish_act': SwishActivation(swish_act)})\n",
    "\n",
    "data_augmentation_layers = tf.keras.Sequential(\n",
    "    [\n",
    "#         tf.keras.layers.experimental.preprocessing.RandomCrop(height=512, width=512),\n",
    "        tf.keras.layers.experimental.preprocessing.RandomFlip(\"horizontal_and_vertical\"),\n",
    "        tf.keras.layers.experimental.preprocessing.RandomRotation(0.25),\n",
    "        tf.keras.layers.experimental.preprocessing.RandomContrast((0.2,0.2)),\n",
    "        tf.keras.layers.experimental.preprocessing.RandomZoom(height_factor=0.4, width_factor=0.3)\n",
    "    ], \n",
    "    name=\"img_augmentation\"\n",
    ")\n",
    "\n",
    "def buildModel():\n",
    "    inputs = tf.keras.layers.Input(shape=(IMAGE_SIZE[0], IMAGE_SIZE[1], 3))\n",
    "    x = data_augmentation_layers(inputs)\n",
    "    # model = EfficientNetB0(include_top=False, input_tensor=x, weights=\"imagenet\")\n",
    "    model = eff.EfficientNetB0(include_top=False, input_tensor=x, weights='noisy-student')\n",
    "\n",
    "\n",
    "    # Freeze the pretrained weights\n",
    "    # model.trainable = False\n",
    "\n",
    "    # Rebuild top\n",
    "    x = tf.keras.layers.GlobalAveragePooling2D(name=\"avg_pool\")(model.output)\n",
    "    x = tf.keras.layers.BatchNormalization()(x)\n",
    "\n",
    "    top_dropout_rate = 0.2\n",
    "    x = tf.keras.layers.Dropout(top_dropout_rate, name=\"top_dropout\")(x)\n",
    "\n",
    "    x = tf.keras.layers.BatchNormalization()(x)\n",
    "    x = tf.keras.layers.Dropout(0.3)(x)\n",
    "\n",
    "    x = tf.keras.layers.Dense(512)(x)\n",
    "    x = tf.keras.layers.BatchNormalization()(x)\n",
    "    x = tf.keras.layers.Activation(swish_act)(x)\n",
    "    x = tf.keras.layers.Dropout(0.3)(x)\n",
    "\n",
    "    x = tf.keras.layers.Dense(256)(x)\n",
    "    x = tf.keras.layers.BatchNormalization()(x)\n",
    "    x = tf.keras.layers.Activation(swish_act)(x)\n",
    "\n",
    "    outputs = tf.keras.layers.Dense(NUM_CLASSES, activation=\"softmax\", name=\"pred\")(x)\n",
    "\n",
    "    # Compile\n",
    "    model = tf.keras.Model(inputs, outputs, name=\"EfficientNet\")\n",
    "    \n",
    "    return model"
   ]
  },
  {
   "cell_type": "code",
   "execution_count": 4,
   "metadata": {},
   "outputs": [],
   "source": [
    "from sklearn.model_selection import KFold"
   ]
  },
  {
   "cell_type": "code",
   "execution_count": 5,
   "metadata": {},
   "outputs": [],
   "source": [
    "kf = KFold(n_splits=5)"
   ]
  },
  {
   "cell_type": "code",
   "execution_count": 6,
   "metadata": {},
   "outputs": [
    {
     "name": "stdout",
     "output_type": "stream",
     "text": [
      "1\n",
      "2\n",
      "3\n",
      "4\n",
      "5\n"
     ]
    }
   ],
   "source": [
    "i = 1\n",
    "for train_index, test_index in kf.split(FILENAMES):\n",
    "    print(i)\n",
    "    i+=1"
   ]
  },
  {
   "cell_type": "code",
   "execution_count": 7,
   "metadata": {},
   "outputs": [
    {
     "name": "stdout",
     "output_type": "stream",
     "text": [
      "['../input/train_tfrecords/ld_train13-1338.tfrec', '../input/train_tfrecords/ld_train12-1338.tfrec', '../input/train_tfrecords/ld_train08-1338.tfrec', '../input/train_tfrecords/ld_train02-1338.tfrec', '../input/train_tfrecords/ld_train11-1338.tfrec', '../input/train_tfrecords/ld_train01-1338.tfrec', '../input/train_tfrecords/ld_train04-1338.tfrec', '../input/train_tfrecords/ld_train15-1327.tfrec', '../input/train_tfrecords/ld_train07-1338.tfrec', '../input/train_tfrecords/ld_train10-1338.tfrec', '../input/train_tfrecords/ld_train00-1338.tfrec', '../input/train_tfrecords/ld_train03-1338.tfrec']\n",
      "['../input/train_tfrecords/ld_train06-1338.tfrec', '../input/train_tfrecords/ld_train09-1338.tfrec', '../input/train_tfrecords/ld_train05-1338.tfrec', '../input/train_tfrecords/ld_train14-1338.tfrec']\n",
      "Epoch 1/12\n",
      "1337/1337 [==============================] - 622s 455ms/step - loss: 1.0658 - accuracy: 0.5980 - val_loss: 0.4628 - val_accuracy: 0.8496\n",
      "\n",
      "Epoch 00001: val_accuracy improved from -inf to 0.84959, saving model to EfficientNet_B0_cv_1.ckpt\n",
      "Epoch 2/12\n",
      "1337/1337 [==============================] - 607s 454ms/step - loss: 0.5376 - accuracy: 0.8112 - val_loss: 0.3897 - val_accuracy: 0.8735\n",
      "\n",
      "Epoch 00002: val_accuracy improved from 0.84959 to 0.87351, saving model to EfficientNet_B0_cv_1.ckpt\n",
      "Epoch 3/12\n",
      "1337/1337 [==============================] - 609s 455ms/step - loss: 0.4757 - accuracy: 0.8338 - val_loss: 0.3857 - val_accuracy: 0.8728\n",
      "\n",
      "Epoch 00003: val_accuracy did not improve from 0.87351\n",
      "Epoch 4/12\n",
      "1337/1337 [==============================] - 607s 454ms/step - loss: 0.4550 - accuracy: 0.8436 - val_loss: 0.3894 - val_accuracy: 0.8660\n",
      "\n",
      "Epoch 00004: val_accuracy did not improve from 0.87351\n",
      "Epoch 5/12\n",
      "1337/1337 [==============================] - 607s 454ms/step - loss: 0.4181 - accuracy: 0.8606 - val_loss: 0.3940 - val_accuracy: 0.8582\n",
      "\n",
      "Epoch 00005: val_accuracy did not improve from 0.87351\n",
      "Epoch 6/12\n",
      "1337/1337 [==============================] - 608s 455ms/step - loss: 0.4093 - accuracy: 0.8580 - val_loss: 0.3400 - val_accuracy: 0.8823\n",
      "\n",
      "Epoch 00006: val_accuracy improved from 0.87351 to 0.88229, saving model to EfficientNet_B0_cv_1.ckpt\n",
      "Epoch 7/12\n",
      "1337/1337 [==============================] - 608s 454ms/step - loss: 0.3751 - accuracy: 0.8732 - val_loss: 0.3579 - val_accuracy: 0.8761\n",
      "\n",
      "Epoch 00007: val_accuracy did not improve from 0.88229\n",
      "Epoch 8/12\n",
      "1337/1337 [==============================] - 607s 454ms/step - loss: 0.3758 - accuracy: 0.8727 - val_loss: 0.3599 - val_accuracy: 0.8741\n",
      "\n",
      "Epoch 00008: val_accuracy did not improve from 0.88229\n",
      "Epoch 9/12\n",
      "1337/1337 [==============================] - 606s 454ms/step - loss: 0.3625 - accuracy: 0.8779 - val_loss: 0.3510 - val_accuracy: 0.8787\n",
      "\n",
      "Epoch 00009: val_accuracy did not improve from 0.88229\n",
      "Epoch 10/12\n",
      "1337/1337 [==============================] - 606s 453ms/step - loss: 0.3336 - accuracy: 0.8849 - val_loss: 0.3633 - val_accuracy: 0.8728\n",
      "\n",
      "Epoch 00010: val_accuracy did not improve from 0.88229\n",
      "Epoch 11/12\n",
      "1337/1337 [==============================] - 607s 454ms/step - loss: 0.3272 - accuracy: 0.8856 - val_loss: 0.3506 - val_accuracy: 0.8750\n",
      "\n",
      "Epoch 00011: val_accuracy did not improve from 0.88229\n",
      "Epoch 12/12\n",
      "1337/1337 [==============================] - 606s 453ms/step - loss: 0.3272 - accuracy: 0.8877 - val_loss: 0.3376 - val_accuracy: 0.8830\n",
      "\n",
      "Epoch 00012: val_accuracy improved from 0.88229 to 0.88303, saving model to EfficientNet_B0_cv_1.ckpt\n",
      "['../input/train_tfrecords/ld_train06-1338.tfrec', '../input/train_tfrecords/ld_train09-1338.tfrec', '../input/train_tfrecords/ld_train05-1338.tfrec', '../input/train_tfrecords/ld_train14-1338.tfrec', '../input/train_tfrecords/ld_train02-1338.tfrec', '../input/train_tfrecords/ld_train11-1338.tfrec', '../input/train_tfrecords/ld_train01-1338.tfrec', '../input/train_tfrecords/ld_train04-1338.tfrec', '../input/train_tfrecords/ld_train15-1327.tfrec', '../input/train_tfrecords/ld_train07-1338.tfrec', '../input/train_tfrecords/ld_train10-1338.tfrec', '../input/train_tfrecords/ld_train00-1338.tfrec', '../input/train_tfrecords/ld_train03-1338.tfrec']\n",
      "['../input/train_tfrecords/ld_train13-1338.tfrec', '../input/train_tfrecords/ld_train12-1338.tfrec', '../input/train_tfrecords/ld_train08-1338.tfrec']\n",
      "Epoch 1/12\n",
      "1448/1448 [==============================] - 648s 441ms/step - loss: 1.0069 - accuracy: 0.6200 - val_loss: 0.4854 - val_accuracy: 0.8351\n",
      "\n",
      "Epoch 00001: val_accuracy improved from -inf to 0.83508, saving model to EfficientNet_B0_cv_2.ckpt\n",
      "Epoch 2/12\n",
      "1448/1448 [==============================] - 639s 441ms/step - loss: 0.5599 - accuracy: 0.8044 - val_loss: 0.4648 - val_accuracy: 0.8381\n",
      "\n",
      "Epoch 00002: val_accuracy improved from 0.83508 to 0.83807, saving model to EfficientNet_B0_cv_2.ckpt\n",
      "Epoch 3/12\n",
      "1448/1448 [==============================] - 645s 446ms/step - loss: 0.4757 - accuracy: 0.8384 - val_loss: 0.3987 - val_accuracy: 0.8605\n",
      "\n",
      "Epoch 00003: val_accuracy improved from 0.83807 to 0.86053, saving model to EfficientNet_B0_cv_2.ckpt\n",
      "Epoch 4/12\n",
      "1448/1448 [==============================] - 642s 443ms/step - loss: 0.4442 - accuracy: 0.8445 - val_loss: 0.3837 - val_accuracy: 0.8675\n",
      "\n",
      "Epoch 00004: val_accuracy improved from 0.86053 to 0.86751, saving model to EfficientNet_B0_cv_2.ckpt\n",
      "Epoch 5/12\n",
      "1448/1448 [==============================] - 640s 442ms/step - loss: 0.4175 - accuracy: 0.8607 - val_loss: 0.3904 - val_accuracy: 0.8645\n",
      "\n",
      "Epoch 00005: val_accuracy did not improve from 0.86751\n",
      "Epoch 6/12\n",
      "1448/1448 [==============================] - 641s 443ms/step - loss: 0.4009 - accuracy: 0.8663 - val_loss: 0.3686 - val_accuracy: 0.8790\n",
      "\n",
      "Epoch 00006: val_accuracy improved from 0.86751 to 0.87899, saving model to EfficientNet_B0_cv_2.ckpt\n",
      "Epoch 7/12\n",
      "1448/1448 [==============================] - 642s 443ms/step - loss: 0.3901 - accuracy: 0.8699 - val_loss: 0.3581 - val_accuracy: 0.8713\n",
      "\n",
      "Epoch 00007: val_accuracy did not improve from 0.87899\n",
      "Epoch 8/12\n",
      "1448/1448 [==============================] - 642s 443ms/step - loss: 0.3531 - accuracy: 0.8816 - val_loss: 0.3528 - val_accuracy: 0.8720\n",
      "\n",
      "Epoch 00008: val_accuracy did not improve from 0.87899\n",
      "Epoch 9/12\n",
      "1448/1448 [==============================] - 641s 443ms/step - loss: 0.3370 - accuracy: 0.8896 - val_loss: 0.3842 - val_accuracy: 0.8645\n",
      "\n",
      "Epoch 00009: val_accuracy did not improve from 0.87899\n",
      "Epoch 10/12\n",
      "1448/1448 [==============================] - 637s 440ms/step - loss: 0.3512 - accuracy: 0.8861 - val_loss: 0.3493 - val_accuracy: 0.8745\n",
      "\n",
      "Epoch 00010: val_accuracy did not improve from 0.87899\n",
      "Epoch 11/12\n",
      "1448/1448 [==============================] - 641s 443ms/step - loss: 0.3199 - accuracy: 0.8904 - val_loss: 0.3629 - val_accuracy: 0.8790\n",
      "\n",
      "Epoch 00011: val_accuracy did not improve from 0.87899\n",
      "Epoch 12/12\n",
      "1448/1448 [==============================] - 640s 442ms/step - loss: 0.3316 - accuracy: 0.8848 - val_loss: 0.3539 - val_accuracy: 0.8700\n",
      "\n",
      "Epoch 00012: val_accuracy did not improve from 0.87899\n",
      "['../input/train_tfrecords/ld_train06-1338.tfrec', '../input/train_tfrecords/ld_train09-1338.tfrec', '../input/train_tfrecords/ld_train05-1338.tfrec', '../input/train_tfrecords/ld_train14-1338.tfrec', '../input/train_tfrecords/ld_train13-1338.tfrec', '../input/train_tfrecords/ld_train12-1338.tfrec', '../input/train_tfrecords/ld_train08-1338.tfrec', '../input/train_tfrecords/ld_train04-1338.tfrec', '../input/train_tfrecords/ld_train15-1327.tfrec', '../input/train_tfrecords/ld_train07-1338.tfrec', '../input/train_tfrecords/ld_train10-1338.tfrec', '../input/train_tfrecords/ld_train00-1338.tfrec', '../input/train_tfrecords/ld_train03-1338.tfrec']\n",
      "['../input/train_tfrecords/ld_train02-1338.tfrec', '../input/train_tfrecords/ld_train11-1338.tfrec', '../input/train_tfrecords/ld_train01-1338.tfrec']\n",
      "Epoch 1/12\n",
      "1448/1448 [==============================] - 645s 438ms/step - loss: 1.0120 - accuracy: 0.6200 - val_loss: 0.4695 - val_accuracy: 0.8433\n",
      "\n",
      "Epoch 00001: val_accuracy improved from -inf to 0.84331, saving model to EfficientNet_B0_cv_3.ckpt\n",
      "Epoch 2/12\n",
      "1448/1448 [==============================] - 630s 435ms/step - loss: 0.5296 - accuracy: 0.8150 - val_loss: 0.4558 - val_accuracy: 0.8500\n",
      "\n",
      "Epoch 00002: val_accuracy improved from 0.84331 to 0.85005, saving model to EfficientNet_B0_cv_3.ckpt\n"
     ]
    },
    {
     "name": "stdout",
     "output_type": "stream",
     "text": [
      "Epoch 3/12\n",
      "1448/1448 [==============================] - 632s 436ms/step - loss: 0.4754 - accuracy: 0.8340 - val_loss: 0.4107 - val_accuracy: 0.8618\n",
      "\n",
      "Epoch 00003: val_accuracy improved from 0.85005 to 0.86178, saving model to EfficientNet_B0_cv_3.ckpt\n",
      "Epoch 4/12\n",
      "1448/1448 [==============================] - 634s 438ms/step - loss: 0.4396 - accuracy: 0.8462 - val_loss: 0.4336 - val_accuracy: 0.8610\n",
      "\n",
      "Epoch 00004: val_accuracy did not improve from 0.86178\n",
      "Epoch 5/12\n",
      "1448/1448 [==============================] - 629s 435ms/step - loss: 0.4245 - accuracy: 0.8549 - val_loss: 0.4071 - val_accuracy: 0.8625\n",
      "\n",
      "Epoch 00005: val_accuracy improved from 0.86178 to 0.86252, saving model to EfficientNet_B0_cv_3.ckpt\n",
      "Epoch 6/12\n",
      "1448/1448 [==============================] - 630s 435ms/step - loss: 0.4077 - accuracy: 0.8591 - val_loss: 0.3676 - val_accuracy: 0.8837\n",
      "\n",
      "Epoch 00006: val_accuracy improved from 0.86252 to 0.88373, saving model to EfficientNet_B0_cv_3.ckpt\n",
      "Epoch 7/12\n",
      "1448/1448 [==============================] - 631s 436ms/step - loss: 0.3761 - accuracy: 0.8704 - val_loss: 0.3812 - val_accuracy: 0.8745\n",
      "\n",
      "Epoch 00007: val_accuracy did not improve from 0.88373\n",
      "Epoch 8/12\n",
      "1448/1448 [==============================] - 631s 436ms/step - loss: 0.3685 - accuracy: 0.8711 - val_loss: 0.3746 - val_accuracy: 0.8790\n",
      "\n",
      "Epoch 00008: val_accuracy did not improve from 0.88373\n",
      "Epoch 9/12\n",
      "1448/1448 [==============================] - 631s 435ms/step - loss: 0.3435 - accuracy: 0.8826 - val_loss: 0.3884 - val_accuracy: 0.8735\n",
      "\n",
      "Epoch 00009: val_accuracy did not improve from 0.88373\n",
      "Epoch 10/12\n",
      "1448/1448 [==============================] - 630s 435ms/step - loss: 0.3410 - accuracy: 0.8863 - val_loss: 0.3719 - val_accuracy: 0.8757\n",
      "\n",
      "Epoch 00010: val_accuracy did not improve from 0.88373\n",
      "Epoch 11/12\n",
      "1448/1448 [==============================] - 630s 435ms/step - loss: 0.3274 - accuracy: 0.8916 - val_loss: 0.3728 - val_accuracy: 0.8765\n",
      "\n",
      "Epoch 00011: val_accuracy did not improve from 0.88373\n",
      "Epoch 12/12\n",
      "1448/1448 [==============================] - 631s 436ms/step - loss: 0.3075 - accuracy: 0.8966 - val_loss: 0.3882 - val_accuracy: 0.8695\n",
      "\n",
      "Epoch 00012: val_accuracy did not improve from 0.88373\n",
      "['../input/train_tfrecords/ld_train06-1338.tfrec', '../input/train_tfrecords/ld_train09-1338.tfrec', '../input/train_tfrecords/ld_train05-1338.tfrec', '../input/train_tfrecords/ld_train14-1338.tfrec', '../input/train_tfrecords/ld_train13-1338.tfrec', '../input/train_tfrecords/ld_train12-1338.tfrec', '../input/train_tfrecords/ld_train08-1338.tfrec', '../input/train_tfrecords/ld_train02-1338.tfrec', '../input/train_tfrecords/ld_train11-1338.tfrec', '../input/train_tfrecords/ld_train01-1338.tfrec', '../input/train_tfrecords/ld_train10-1338.tfrec', '../input/train_tfrecords/ld_train00-1338.tfrec', '../input/train_tfrecords/ld_train03-1338.tfrec']\n",
      "['../input/train_tfrecords/ld_train04-1338.tfrec', '../input/train_tfrecords/ld_train15-1327.tfrec', '../input/train_tfrecords/ld_train07-1338.tfrec']\n",
      "Epoch 1/12\n",
      "1449/1449 [==============================] - 643s 438ms/step - loss: 1.0223 - accuracy: 0.6100 - val_loss: 0.5093 - val_accuracy: 0.8326\n",
      "\n",
      "Epoch 00001: val_accuracy improved from -inf to 0.83258, saving model to EfficientNet_B0_cv_4.ckpt\n",
      "Epoch 2/12\n",
      "1449/1449 [==============================] - 633s 437ms/step - loss: 0.5329 - accuracy: 0.8159 - val_loss: 0.4442 - val_accuracy: 0.8458\n",
      "\n",
      "Epoch 00002: val_accuracy improved from 0.83258 to 0.84585, saving model to EfficientNet_B0_cv_4.ckpt\n",
      "Epoch 3/12\n",
      "1449/1449 [==============================] - 633s 437ms/step - loss: 0.4747 - accuracy: 0.8327 - val_loss: 0.4051 - val_accuracy: 0.8559\n",
      "\n",
      "Epoch 00003: val_accuracy improved from 0.84585 to 0.85586, saving model to EfficientNet_B0_cv_4.ckpt\n",
      "Epoch 4/12\n",
      "1449/1449 [==============================] - 634s 438ms/step - loss: 0.4506 - accuracy: 0.8466 - val_loss: 0.3828 - val_accuracy: 0.8774\n",
      "\n",
      "Epoch 00004: val_accuracy improved from 0.85586 to 0.87738, saving model to EfficientNet_B0_cv_4.ckpt\n",
      "Epoch 5/12\n",
      "1449/1449 [==============================] - 634s 438ms/step - loss: 0.4321 - accuracy: 0.8542 - val_loss: 0.3785 - val_accuracy: 0.8711\n",
      "\n",
      "Epoch 00005: val_accuracy did not improve from 0.87738\n",
      "Epoch 6/12\n",
      "1449/1449 [==============================] - 632s 436ms/step - loss: 0.3831 - accuracy: 0.8699 - val_loss: 0.3733 - val_accuracy: 0.8774\n",
      "\n",
      "Epoch 00006: val_accuracy did not improve from 0.87738\n",
      "Epoch 7/12\n",
      "1449/1449 [==============================] - 634s 437ms/step - loss: 0.3788 - accuracy: 0.8759 - val_loss: 0.3718 - val_accuracy: 0.8759\n",
      "\n",
      "Epoch 00007: val_accuracy did not improve from 0.87738\n",
      "Epoch 8/12\n",
      "1449/1449 [==============================] - 633s 437ms/step - loss: 0.3706 - accuracy: 0.8725 - val_loss: 0.3503 - val_accuracy: 0.8816\n",
      "\n",
      "Epoch 00008: val_accuracy improved from 0.87738 to 0.88163, saving model to EfficientNet_B0_cv_4.ckpt\n",
      "Epoch 9/12\n",
      "1449/1449 [==============================] - 633s 437ms/step - loss: 0.3384 - accuracy: 0.8843 - val_loss: 0.3649 - val_accuracy: 0.8769\n",
      "\n",
      "Epoch 00009: val_accuracy did not improve from 0.88163\n",
      "Epoch 10/12\n",
      "1449/1449 [==============================] - 634s 437ms/step - loss: 0.3431 - accuracy: 0.8858 - val_loss: 0.3553 - val_accuracy: 0.8746\n",
      "\n",
      "Epoch 00010: val_accuracy did not improve from 0.88163\n",
      "Epoch 11/12\n",
      "1449/1449 [==============================] - 633s 437ms/step - loss: 0.3210 - accuracy: 0.8927 - val_loss: 0.3650 - val_accuracy: 0.8771\n",
      "\n",
      "Epoch 00011: val_accuracy did not improve from 0.88163\n",
      "Epoch 12/12\n",
      "1449/1449 [==============================] - 633s 437ms/step - loss: 0.3200 - accuracy: 0.8916 - val_loss: 0.3622 - val_accuracy: 0.8746\n",
      "\n",
      "Epoch 00012: val_accuracy did not improve from 0.88163\n",
      "['../input/train_tfrecords/ld_train06-1338.tfrec', '../input/train_tfrecords/ld_train09-1338.tfrec', '../input/train_tfrecords/ld_train05-1338.tfrec', '../input/train_tfrecords/ld_train14-1338.tfrec', '../input/train_tfrecords/ld_train13-1338.tfrec', '../input/train_tfrecords/ld_train12-1338.tfrec', '../input/train_tfrecords/ld_train08-1338.tfrec', '../input/train_tfrecords/ld_train02-1338.tfrec', '../input/train_tfrecords/ld_train11-1338.tfrec', '../input/train_tfrecords/ld_train01-1338.tfrec', '../input/train_tfrecords/ld_train04-1338.tfrec', '../input/train_tfrecords/ld_train15-1327.tfrec', '../input/train_tfrecords/ld_train07-1338.tfrec']\n",
      "['../input/train_tfrecords/ld_train10-1338.tfrec', '../input/train_tfrecords/ld_train00-1338.tfrec', '../input/train_tfrecords/ld_train03-1338.tfrec']\n",
      "Epoch 1/12\n",
      "1448/1448 [==============================] - 644s 439ms/step - loss: 1.0988 - accuracy: 0.5899 - val_loss: 0.4750 - val_accuracy: 0.8436\n",
      "\n",
      "Epoch 00001: val_accuracy improved from -inf to 0.84356, saving model to EfficientNet_B0_cv_5.ckpt\n",
      "Epoch 2/12\n",
      "1448/1448 [==============================] - 634s 438ms/step - loss: 0.5503 - accuracy: 0.8095 - val_loss: 0.4690 - val_accuracy: 0.8358\n",
      "\n",
      "Epoch 00002: val_accuracy did not improve from 0.84356\n",
      "Epoch 3/12\n",
      "1448/1448 [==============================] - 633s 437ms/step - loss: 0.4831 - accuracy: 0.8317 - val_loss: 0.4138 - val_accuracy: 0.8603\n",
      "\n",
      "Epoch 00003: val_accuracy improved from 0.84356 to 0.86028, saving model to EfficientNet_B0_cv_5.ckpt\n",
      "Epoch 4/12\n",
      "1448/1448 [==============================] - 635s 439ms/step - loss: 0.4513 - accuracy: 0.8446 - val_loss: 0.4004 - val_accuracy: 0.8560\n",
      "\n",
      "Epoch 00004: val_accuracy did not improve from 0.86028\n",
      "Epoch 5/12\n",
      "1448/1448 [==============================] - 634s 438ms/step - loss: 0.4187 - accuracy: 0.8568 - val_loss: 0.3974 - val_accuracy: 0.8588\n",
      "\n",
      "Epoch 00005: val_accuracy did not improve from 0.86028\n",
      "Epoch 6/12\n",
      "1448/1448 [==============================] - 634s 438ms/step - loss: 0.3974 - accuracy: 0.8648 - val_loss: 0.3680 - val_accuracy: 0.8705\n",
      "\n",
      "Epoch 00006: val_accuracy improved from 0.86028 to 0.87051, saving model to EfficientNet_B0_cv_5.ckpt\n",
      "Epoch 7/12\n",
      "1448/1448 [==============================] - 635s 438ms/step - loss: 0.3685 - accuracy: 0.8760 - val_loss: 0.3996 - val_accuracy: 0.8598\n",
      "\n",
      "Epoch 00007: val_accuracy did not improve from 0.87051\n",
      "Epoch 8/12\n",
      "1448/1448 [==============================] - 633s 437ms/step - loss: 0.3634 - accuracy: 0.8764 - val_loss: 0.3733 - val_accuracy: 0.8670\n",
      "\n",
      "Epoch 00008: val_accuracy did not improve from 0.87051\n",
      "Epoch 9/12\n"
     ]
    },
    {
     "name": "stdout",
     "output_type": "stream",
     "text": [
      "1448/1448 [==============================] - 635s 438ms/step - loss: 0.3584 - accuracy: 0.8757 - val_loss: 0.3537 - val_accuracy: 0.8755\n",
      "\n",
      "Epoch 00009: val_accuracy improved from 0.87051 to 0.87550, saving model to EfficientNet_B0_cv_5.ckpt\n",
      "Epoch 10/12\n",
      "1448/1448 [==============================] - 637s 440ms/step - loss: 0.3182 - accuracy: 0.8922 - val_loss: 0.3576 - val_accuracy: 0.8767\n",
      "\n",
      "Epoch 00010: val_accuracy improved from 0.87550 to 0.87675, saving model to EfficientNet_B0_cv_5.ckpt\n",
      "Epoch 11/12\n",
      "1448/1448 [==============================] - 634s 438ms/step - loss: 0.3290 - accuracy: 0.8856 - val_loss: 0.3751 - val_accuracy: 0.8645\n",
      "\n",
      "Epoch 00011: val_accuracy did not improve from 0.87675\n",
      "Epoch 12/12\n",
      "1448/1448 [==============================] - 636s 439ms/step - loss: 0.3174 - accuracy: 0.8920 - val_loss: 0.3708 - val_accuracy: 0.8725\n",
      "\n",
      "Epoch 00012: val_accuracy did not improve from 0.87675\n"
     ]
    }
   ],
   "source": [
    "decay_steps = int(round(NUM_TRAINING_IMAGES/BATCH_SIZE))*epochs\n",
    "cosine_decay = CosineDecay(initial_learning_rate=1e-4, decay_steps=decay_steps, alpha=0.3)\n",
    "\n",
    "hist = []\n",
    "\n",
    "i = 1\n",
    "\n",
    "for train_index, test_index in kf.split(FILENAMES):\n",
    "    TRAINING_FILENAMES = [FILENAMES[t] for t in train_index]\n",
    "    VALID_FILENAMES = [FILENAMES[t] for t in test_index]\n",
    "    print(TRAINING_FILENAMES)\n",
    "    print(VALID_FILENAMES)\n",
    "    \n",
    "    NUM_TRAINING_IMAGES = count_data_items(TRAINING_FILENAMES)\n",
    "    NUM_VALIDATION_IMAGES = count_data_items(VALID_FILENAMES)\n",
    "    \n",
    "    STEPS_PER_EPOCH = NUM_TRAINING_IMAGES // BATCH_SIZE\n",
    "    VALID_STEPS = NUM_VALIDATION_IMAGES // BATCH_SIZE\n",
    "    \n",
    "    train_dataset = get_validation_dataset(TRAINING_FILENAMES, BATCH_SIZE)\n",
    "    valid_dataset = get_validation_dataset(VALID_FILENAMES, BATCH_SIZE)\n",
    "    \n",
    "    model = buildModel()\n",
    "    \n",
    "    checkpoint = tf.keras.callbacks.ModelCheckpoint(\"EfficientNet_B0_cv_{}.ckpt\".format(i), \n",
    "                                                monitor='val_accuracy', \n",
    "                                                verbose=1,\n",
    "                                                save_best_only=True, \n",
    "                                                mode='max', save_freq='epoch',\n",
    "                                               save_weights_only=True)\n",
    "\n",
    "    # callbacks = [ModelCheckpoint(filepath='best_model.h5', monitor='val_loss', save_best_only=True)]\n",
    "\n",
    "    model.compile(loss=\"sparse_categorical_crossentropy\", optimizer=tf.keras.optimizers.Adam(cosine_decay), \n",
    "                  metrics=[\"accuracy\"])\n",
    "    \n",
    "    \n",
    "    \n",
    "    history = model.fit(train_dataset, \n",
    "                        steps_per_epoch=STEPS_PER_EPOCH, \n",
    "                        epochs=epochs,\n",
    "                        validation_data=valid_dataset,\n",
    "                        validation_steps=VALID_STEPS, \n",
    "                       callbacks=[checkpoint])\n",
    "    \n",
    "    del model, train_dataset, valid_dataset\n",
    "    tf.keras.backend.clear_session()\n",
    "    \n",
    "    hist.append(history)\n",
    "    i+=1"
   ]
  },
  {
   "cell_type": "code",
   "execution_count": 9,
   "metadata": {},
   "outputs": [
    {
     "data": {
      "text/plain": [
       "dict_keys(['loss', 'accuracy', 'val_loss', 'val_accuracy'])"
      ]
     },
     "execution_count": 9,
     "metadata": {},
     "output_type": "execute_result"
    }
   ],
   "source": [
    "hist[0].history.keys()"
   ]
  },
  {
   "cell_type": "code",
   "execution_count": 10,
   "metadata": {},
   "outputs": [
    {
     "data": {
      "image/png": "[encoded data removed]",
      "text/plain": [
       "<Figure size 432x288 with 1 Axes>"
      ]
     },
     "metadata": {
      "needs_background": "light"
     },
     "output_type": "display_data"
    }
   ],
   "source": [
    "# summarize history for accuracy\n",
    "plt.plot(hist[0].history['accuracy'])\n",
    "plt.plot(hist[0].history['val_accuracy'])\n",
    "plt.title('model accuracy')\n",
    "plt.ylabel('accuracy')\n",
    "plt.xlabel('epoch')\n",
    "plt.legend(['train', 'test'], loc='upper left')\n",
    "plt.show()"
   ]
  },
  {
   "cell_type": "code",
   "execution_count": 11,
   "metadata": {},
   "outputs": [
    {
     "data": {
      "image/png": "[encoded data removed]",
      "text/plain": [
       "<Figure size 432x288 with 1 Axes>"
      ]
     },
     "metadata": {
      "needs_background": "light"
     },
     "output_type": "display_data"
    }
   ],
   "source": [
    "# summarize history for accuracy\n",
    "plt.plot(hist[1].history['accuracy'])\n",
    "plt.plot(hist[1].history['val_accuracy'])\n",
    "plt.title('model accuracy')\n",
    "plt.ylabel('accuracy')\n",
    "plt.xlabel('epoch')\n",
    "plt.legend(['train', 'test'], loc='upper left')\n",
    "plt.show()"
   ]
  },
  {
   "cell_type": "code",
   "execution_count": 12,
   "metadata": {},
   "outputs": [
    {
     "data": {
      "image/png": "[encoded data removed]",
      "text/plain": [
       "<Figure size 432x288 with 1 Axes>"
      ]
     },
     "metadata": {
      "needs_background": "light"
     },
     "output_type": "display_data"
    }
   ],
   "source": [
    "# summarize history for accuracy\n",
    "plt.plot(hist[2].history['accuracy'])\n",
    "plt.plot(hist[2].history['val_accuracy'])\n",
    "plt.title('model accuracy')\n",
    "plt.ylabel('accuracy')\n",
    "plt.xlabel('epoch')\n",
    "plt.legend(['train', 'test'], loc='upper left')\n",
    "plt.show()"
   ]
  },
  {
   "cell_type": "code",
   "execution_count": 13,
   "metadata": {},
   "outputs": [
    {
     "data": {
      "image/png": "[encoded data removed]",
      "text/plain": [
       "<Figure size 432x288 with 1 Axes>"
      ]
     },
     "metadata": {
      "needs_background": "light"
     },
     "output_type": "display_data"
    }
   ],
   "source": [
    "# summarize history for accuracy\n",
    "plt.plot(hist[3].history['accuracy'])\n",
    "plt.plot(hist[3].history['val_accuracy'])\n",
    "plt.title('model accuracy')\n",
    "plt.ylabel('accuracy')\n",
    "plt.xlabel('epoch')\n",
    "plt.legend(['train', 'test'], loc='upper left')\n",
    "plt.show()"
   ]
  },
  {
   "cell_type": "code",
   "execution_count": 14,
   "metadata": {},
   "outputs": [
    {
     "data": {
      "image/png": "[encoded data removed]",
      "text/plain": [
       "<Figure size 432x288 with 1 Axes>"
      ]
     },
     "metadata": {
      "needs_background": "light"
     },
     "output_type": "display_data"
    }
   ],
   "source": [
    "# summarize history for accuracy\n",
    "plt.plot(hist[4].history['accuracy'])\n",
    "plt.plot(hist[4].history['val_accuracy'])\n",
    "plt.title('model accuracy')\n",
    "plt.ylabel('accuracy')\n",
    "plt.xlabel('epoch')\n",
    "plt.legend(['train', 'test'], loc='upper left')\n",
    "plt.show()"
   ]
  },
  {
   "cell_type": "code",
   "execution_count": 17,
   "metadata": {},
   "outputs": [
    {
     "data": {
      "text/plain": [
       "[<tensorflow.python.keras.callbacks.History at 0x7f2680c80128>,\n",
       " <tensorflow.python.keras.callbacks.History at 0x7f270f56ccf8>,\n",
       " <tensorflow.python.keras.callbacks.History at 0x7f26b80a7780>,\n",
       " <tensorflow.python.keras.callbacks.History at 0x7f26b1852cc0>,\n",
       " <tensorflow.python.keras.callbacks.History at 0x7f25ec0cdc50>]"
      ]
     },
     "execution_count": 17,
     "metadata": {},
     "output_type": "execute_result"
    }
   ],
   "source": [
    "hist"
   ]
  },
  {
   "cell_type": "code",
   "execution_count": 19,
   "metadata": {},
   "outputs": [],
   "source": [
    "import pandas as pd"
   ]
  },
  {
   "cell_type": "code",
   "execution_count": 24,
   "metadata": {},
   "outputs": [],
   "source": [
    "df = pd.DataFrame.from_dict(hist[0].history)\n",
    "df['cv'] = 0\n",
    "\n",
    "for i in range(1,5):\n",
    "    df_hold = pd.DataFrame.from_dict(hist[i].history)\n",
    "    df_hold['cv'] = i\n",
    "    df = df.append(df_hold)"
   ]
  },
  {
   "cell_type": "code",
   "execution_count": 32,
   "metadata": {},
   "outputs": [
    {
     "data": {
      "text/html": [
       "<div>\n",
       "<style scoped>\n",
       "    .dataframe tbody tr th:only-of-type {\n",
       "        vertical-align: middle;\n",
       "    }\n",
       "\n",
       "    .dataframe tbody tr th {\n",
       "        vertical-align: top;\n",
       "    }\n",
       "\n",
       "    .dataframe thead th {\n",
       "        text-align: right;\n",
       "    }\n",
       "</style>\n",
       "<table border=\"1\" class=\"dataframe\">\n",
       "  <thead>\n",
       "    <tr style=\"text-align: right;\">\n",
       "      <th></th>\n",
       "      <th>max</th>\n",
       "    </tr>\n",
       "    <tr>\n",
       "      <th>cv</th>\n",
       "      <th></th>\n",
       "    </tr>\n",
       "  </thead>\n",
       "  <tbody>\n",
       "    <tr>\n",
       "      <th>0</th>\n",
       "      <td>0.883034</td>\n",
       "    </tr>\n",
       "    <tr>\n",
       "      <th>1</th>\n",
       "      <td>0.878992</td>\n",
       "    </tr>\n",
       "    <tr>\n",
       "      <th>2</th>\n",
       "      <td>0.883733</td>\n",
       "    </tr>\n",
       "    <tr>\n",
       "      <th>3</th>\n",
       "      <td>0.881632</td>\n",
       "    </tr>\n",
       "    <tr>\n",
       "      <th>4</th>\n",
       "      <td>0.876747</td>\n",
       "    </tr>\n",
       "  </tbody>\n",
       "</table>\n",
       "</div>"
      ],
      "text/plain": [
       "         max\n",
       "cv          \n",
       "0   0.883034\n",
       "1   0.878992\n",
       "2   0.883733\n",
       "3   0.881632\n",
       "4   0.876747"
      ]
     },
     "execution_count": 32,
     "metadata": {},
     "output_type": "execute_result"
    }
   ],
   "source": [
    "df.groupby('cv')['val_accuracy'].agg({'max'})"
   ]
  },
  {
   "cell_type": "code",
   "execution_count": 31,
   "metadata": {},
   "outputs": [
    {
     "data": {
      "text/plain": [
       "max    0.880827\n",
       "dtype: float64"
      ]
     },
     "execution_count": 31,
     "metadata": {},
     "output_type": "execute_result"
    }
   ],
   "source": [
    "df.groupby('cv')['val_accuracy'].agg({'max'}).mean()"
   ]
  },
  {
   "cell_type": "code",
   "execution_count": 33,
   "metadata": {},
   "outputs": [],
   "source": [
    "df.to_csv('EfficientNetB0_cv_hist.csv', index=False)"
   ]
  },
  {
   "cell_type": "code",
   "execution_count": null,
   "metadata": {},
   "outputs": [],
   "source": []
  }
 ],
 "metadata": {
  "kernelspec": {
   "display_name": "Python 3",
   "language": "python",
   "name": "python3"
  },
  "language_info": {
   "codemirror_mode": {
    "name": "ipython",
    "version": 3
   },
   "file_extension": ".py",
   "mimetype": "text/x-python",
   "name": "python",
   "nbconvert_exporter": "python",
   "pygments_lexer": "ipython3",
   "version": "3.6.9"
  }
 },
 "nbformat": 4,
 "nbformat_minor": 4
}
